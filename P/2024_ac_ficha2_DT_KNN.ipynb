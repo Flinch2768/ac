{
  "cells": [
    {
      "cell_type": "markdown",
      "metadata": {
        "id": "5rJGMp7CESTT"
      },
      "source": [
        "# **Practice 2.1 - Decision Trees**\n",
        "##Machine Learning – LECD, LEEC\n",
        "\n",
        "###Informatics Engineering Department"
      ]
    },
    {
      "cell_type": "markdown",
      "metadata": {
        "id": "3-JAevWbGBx4"
      },
      "source": [
        "#Ex1\n",
        "1.1 Import libraries:\n",
        "- pandas, numpy\n",
        "- sklearn.datasets <- load_iris\n",
        "- sklearn.tree <- DecisionTreeClassifier\n",
        "- sklearn.model_selection <- train_test_split\n",
        "- sklearn.metrics <- accuracy_score\n",
        "- sklearn.metrics <- confusion_matrix\n",
        "\n",
        "1.2 Load IRIS dataset"
      ]
    },
    {
      "cell_type": "markdown",
      "metadata": {
        "id": "Gj85KXbiFium"
      },
      "source": [
        "**Goals: Use Decision trees to create models;**"
      ]
    },
    {
      "cell_type": "code",
      "execution_count": 2,
      "metadata": {
        "colab": {
          "base_uri": "https://localhost:8080/"
        },
        "id": "xpTtAP3LEPJg",
        "outputId": "07fe89ab-df17-4447-c3f0-ff41037fd46b"
      },
      "outputs": [
        {
          "name": "stdout",
          "output_type": "stream",
          "text": [
            "Classes to predict:  ['setosa' 'versicolor' 'virginica']\n"
          ]
        }
      ],
      "source": [
        "#Start with imports\n",
        "#To do: type your code here:\n",
        "import pandas as pd\n",
        "import numpy as np\n",
        "from sklearn.datasets import load_iris\n",
        "\n",
        "#Loading the iris data\n",
        "#To do: type your code here:\n",
        "data = load_iris()\n",
        "\n",
        "\n",
        "print('Classes to predict: ', data.target_names)\n",
        "#Result should be:\n",
        "#Classes to predict:  ['setosa' 'versicolor' 'virginica']\n"
      ]
    },
    {
      "cell_type": "markdown",
      "metadata": {
        "id": "1123JYxdGmA5"
      },
      "source": [
        "#Ex2: Extracting data attributes (X) and target/ class labels (y)"
      ]
    },
    {
      "cell_type": "code",
      "execution_count": 3,
      "metadata": {
        "id": "lc7-Jo39Glut"
      },
      "outputs": [
        {
          "ename": "NameError",
          "evalue": "name 'X' is not defined",
          "output_type": "error",
          "traceback": [
            "\u001b[1;31m---------------------------------------------------------------------------\u001b[0m",
            "\u001b[1;31mNameError\u001b[0m                                 Traceback (most recent call last)",
            "Cell \u001b[1;32mIn[3], line 10\u001b[0m\n\u001b[0;32m      1\u001b[0m \u001b[38;5;66;03m#To do: type your code here:\u001b[39;00m\n\u001b[0;32m      2\u001b[0m \n\u001b[0;32m      3\u001b[0m \u001b[38;5;66;03m#To do: type your code here:\u001b[39;00m\n\u001b[1;32m   (...)\u001b[0m\n\u001b[0;32m      7\u001b[0m \u001b[38;5;66;03m### Extracting target/ class labels\u001b[39;00m\n\u001b[0;32m      8\u001b[0m \u001b[38;5;66;03m#y =\u001b[39;00m\n\u001b[1;32m---> 10\u001b[0m \u001b[43mX\u001b[49m[:\u001b[38;5;241m4\u001b[39m] \u001b[38;5;66;03m#First 4 iris features\u001b[39;00m\n\u001b[0;32m     11\u001b[0m \u001b[38;5;66;03m#results should be:\u001b[39;00m\n\u001b[0;32m     12\u001b[0m \u001b[38;5;66;03m#array([[5.1, 3.5, 1.4, 0.2],\u001b[39;00m\n\u001b[0;32m     13\u001b[0m \u001b[38;5;66;03m#       [4.9, 3. , 1.4, 0.2],\u001b[39;00m\n\u001b[0;32m     14\u001b[0m \u001b[38;5;66;03m#       [4.7, 3.2, 1.3, 0.2],\u001b[39;00m\n\u001b[0;32m     15\u001b[0m \u001b[38;5;66;03m#       [4.6, 3.1, 1.5, 0.2]])\u001b[39;00m\n\u001b[0;32m     17\u001b[0m \u001b[38;5;28mprint\u001b[39m(\u001b[38;5;124m'\u001b[39m\u001b[38;5;124mNumber of examples in the data:\u001b[39m\u001b[38;5;124m'\u001b[39m, y\u001b[38;5;241m.\u001b[39mshape[\u001b[38;5;241m0\u001b[39m]) \u001b[38;5;66;03m## result should be 150\u001b[39;00m\n",
            "\u001b[1;31mNameError\u001b[0m: name 'X' is not defined"
          ]
        }
      ],
      "source": [
        "#To do: type your code here:\n",
        "\n",
        "#To do: type your code here:\n",
        "#Extracting data attributes\n",
        "#X =\n",
        "\n",
        "### Extracting target/ class labels\n",
        "#y =\n",
        "\n",
        "X[:4] #First 4 iris features\n",
        "#results should be:\n",
        "#array([[5.1, 3.5, 1.4, 0.2],\n",
        "#       [4.9, 3. , 1.4, 0.2],\n",
        "#       [4.7, 3.2, 1.3, 0.2],\n",
        "#       [4.6, 3.1, 1.5, 0.2]])\n",
        "\n",
        "print('Number of examples in the data:', y.shape[0]) ## result should be 150\n"
      ]
    },
    {
      "cell_type": "markdown",
      "metadata": {
        "id": "KtuYHqNlG2W5"
      },
      "source": [
        "#Ex3: Create train and test sets (use train_test_split), 25% for testing"
      ]
    },
    {
      "cell_type": "code",
      "execution_count": null,
      "metadata": {
        "id": "JEgqAYYVGXNx"
      },
      "outputs": [],
      "source": [
        "#To do: type your code here:"
      ]
    },
    {
      "cell_type": "markdown",
      "metadata": {
        "id": "p5nB_lXHH-Cx"
      },
      "source": [
        "#Ex4: Create a Decision Tree (DT) classifier based on entropy (use DecisionTreeClassifier)"
      ]
    },
    {
      "cell_type": "code",
      "execution_count": null,
      "metadata": {
        "id": "CNzUaGN3H9OO"
      },
      "outputs": [],
      "source": [
        "#To do: type your code here:\n",
        "#clf ="
      ]
    },
    {
      "cell_type": "markdown",
      "metadata": {
        "id": "K0YEPCSFIQZY"
      },
      "source": [
        "#Ex5: Train the DT classifier"
      ]
    },
    {
      "cell_type": "code",
      "execution_count": null,
      "metadata": {
        "id": "d0qq1LBhINUe"
      },
      "outputs": [],
      "source": [
        "#To do: type your code here:\n",
        "#clf."
      ]
    },
    {
      "cell_type": "markdown",
      "metadata": {
        "id": "AmCiRQD1I9yL"
      },
      "source": [
        "#Ex6: Predict labels on the test set."
      ]
    },
    {
      "cell_type": "code",
      "execution_count": null,
      "metadata": {
        "id": "U0X4OPCHI3Vu"
      },
      "outputs": [],
      "source": [
        "#To do: type your code here:\n",
        "\n",
        "#y_pred =\n",
        "\n",
        "print(y_pred.size) ## result should be 38"
      ]
    },
    {
      "cell_type": "markdown",
      "metadata": {
        "id": "opvHmzzeJL65"
      },
      "source": [
        "#Ex7: Evaluate results (accuracy on train and test set with accuracy_score)"
      ]
    },
    {
      "cell_type": "code",
      "execution_count": null,
      "metadata": {
        "id": "DcrzmXBhJcyE"
      },
      "outputs": [],
      "source": [
        "#To do: type your code here (fill the ...):\n",
        "\n",
        "#print('Train data accuracy: ', ...)\n",
        "#print('Test data accuracy: ', ...)\n",
        "\n",
        "#Typical Output:\n",
        "#Train data accuracy:  1.0\n",
        "#Test data accuracy:  0.9736842105263158"
      ]
    },
    {
      "cell_type": "markdown",
      "metadata": {
        "id": "U1c_KoxOKZy-"
      },
      "source": [
        "#Ex8: Evaluate results (confusion matrix)"
      ]
    },
    {
      "cell_type": "code",
      "execution_count": null,
      "metadata": {
        "id": "6ih0aUM_KaEc"
      },
      "outputs": [],
      "source": [
        "#To do: type your code here (fill the ...):\n",
        "#cf_matrix = ...."
      ]
    },
    {
      "cell_type": "markdown",
      "metadata": {
        "id": "QvpM-7gLJIeT"
      },
      "source": [
        "#Ex9: Comment on results"
      ]
    },
    {
      "cell_type": "code",
      "execution_count": null,
      "metadata": {
        "id": "1rlwfKdYIH3h"
      },
      "outputs": [],
      "source": [
        "#This code generates a graphical confusion matrix\n",
        "import seaborn as sns\n",
        "import matplotlib.pyplot as plt\n",
        "ax = sns.heatmap(cf_matrix, annot=True, cmap='Blues')\n",
        "ax.set_title('Seaborn Confusion Matrix with labels\\n\\n');\n",
        "ax.set_xlabel('\\nPredicted Iris Category')\n",
        "ax.set_ylabel('Actual Iris Category ');\n",
        "\n",
        "## Ticket labels - List must be in alphabetical order\n",
        "ax.xaxis.set_ticklabels(['Setosa','Versicolor', 'Virginia'])\n",
        "ax.yaxis.set_ticklabels(['Setosa','Versicolor', 'Virginia'])\n",
        "\n",
        "## Display the visualization of the Confusion Matrix.\n",
        "plt.show()"
      ]
    },
    {
      "cell_type": "markdown",
      "metadata": {
        "id": "iKGT2MoUNnUp"
      },
      "source": [
        "Generate the confusion matrix using the code above and comment on the results:"
      ]
    },
    {
      "cell_type": "markdown",
      "metadata": {
        "id": "2b3sN91Hga8o"
      },
      "source": [
        "# Ex 10: Visualize the tree\n",
        "\n",
        "Use plot_tree(clf) importing tree from sklearn"
      ]
    },
    {
      "cell_type": "code",
      "execution_count": null,
      "metadata": {
        "id": "-Qg5xsSzgiST"
      },
      "outputs": [],
      "source": [
        "#To do: type your code here (fill the ...):\n",
        "\n",
        "#from ... import ...\n",
        "#tree...."
      ]
    },
    {
      "cell_type": "markdown",
      "metadata": {
        "id": "bic6pqUvOMuK"
      },
      "source": [
        "#Ex11: Try different trees\n",
        "\n",
        "def __init__(*, criterion='gini', splitter='best', max_depth=None, min_samples_split=2, min_samples_leaf=1, min_weight_fraction_leaf=0.0, max_features=None, random_state=None, max_leaf_nodes=None, min_impurity_decrease=0.0, class_weight=None, ccp_alpha=0.0)"
      ]
    },
    {
      "cell_type": "code",
      "execution_count": null,
      "metadata": {
        "id": "pFm3egUUOloF"
      },
      "outputs": [],
      "source": [
        "#To do: type your code here"
      ]
    },
    {
      "cell_type": "markdown",
      "metadata": {
        "id": "pmYA_E4_Ol9E"
      },
      "source": [
        "Comment on results with differeny trees."
      ]
    },
    {
      "cell_type": "markdown",
      "metadata": {
        "id": "j1kPDcEgsKQt"
      },
      "source": [
        "# **Practice 2.2 - KNN**\n",
        "##Machine Learning – LECD, LEEC\n",
        "\n",
        "###Informatics Engineering Department"
      ]
    },
    {
      "cell_type": "markdown",
      "metadata": {
        "id": "THf3T3-jN5p6"
      },
      "source": [
        "#Ex1: Generate a KNN Classifier and compare results."
      ]
    },
    {
      "cell_type": "code",
      "execution_count": null,
      "metadata": {
        "id": "3duaW1qCOBF8"
      },
      "outputs": [],
      "source": [
        "#To do: type your code here (fill the ...):\n",
        "\n",
        "from sklearn.neighbors import KNeighborsClassifier as KNN\n",
        "\n",
        "#create classifier\n",
        "#knn = ...\n",
        "#train the model\n",
        "#knn.fit(...)\n",
        "#y_pred = knn.predict(...)\n",
        "\n",
        "#print('Train data accuracy: ', ...)\n",
        "#print('Test data accuracy: ', ...)\n"
      ]
    },
    {
      "cell_type": "markdown",
      "metadata": {
        "id": "HhVGCP2EQiPP"
      },
      "source": [
        "#Ex2: Try different datasets (examples in Pratice 1)"
      ]
    },
    {
      "cell_type": "code",
      "execution_count": null,
      "metadata": {
        "id": "eJ8QLs7_QV7n"
      },
      "outputs": [],
      "source": [
        "#To do: type your code\n",
        "from sklearn.datasets import load_breast_cancer\n",
        "breastCancer = load_breast_cancer()\n",
        "\n",
        "X = breastCancer.data\n",
        "y = breastCancer.target"
      ]
    }
  ],
  "metadata": {
    "colab": {
      "provenance": [],
      "toc_visible": true
    },
    "kernelspec": {
      "display_name": "Python 3",
      "name": "python3"
    },
    "language_info": {
      "codemirror_mode": {
        "name": "ipython",
        "version": 3
      },
      "file_extension": ".py",
      "mimetype": "text/x-python",
      "name": "python",
      "nbconvert_exporter": "python",
      "pygments_lexer": "ipython3",
      "version": "3.11.1"
    }
  },
  "nbformat": 4,
  "nbformat_minor": 0
}
