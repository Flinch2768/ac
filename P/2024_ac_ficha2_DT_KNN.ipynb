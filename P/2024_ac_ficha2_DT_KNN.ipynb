{
  "nbformat": 4,
  "nbformat_minor": 0,
  "metadata": {
    "colab": {
      "provenance": [],
      "toc_visible": true
    },
    "kernelspec": {
      "name": "python3",
      "display_name": "Python 3"
    },
    "language_info": {
      "name": "python"
    }
  },
  "cells": [
    {
      "cell_type": "markdown",
      "source": [
        "# **Practice 2.1 - Decision Trees**\n",
        "##Machine Learning – LECD, LEEC\n",
        "\n",
        "###Informatics Engineering Department"
      ],
      "metadata": {
        "id": "5rJGMp7CESTT"
      }
    },
    {
      "cell_type": "markdown",
      "source": [
        "#Ex1\n",
        "1.1 Import libraries:\n",
        "- pandas, numpy\n",
        "- sklearn.datasets <- load_iris\n",
        "- sklearn.tree <- DecisionTreeClassifier\n",
        "- sklearn.model_selection <- train_test_split\n",
        "- sklearn.metrics <- accuracy_score\n",
        "- sklearn.metrics <- confusion_matrix\n",
        "\n",
        "1.2 Load IRIS dataset"
      ],
      "metadata": {
        "id": "3-JAevWbGBx4"
      }
    },
    {
      "cell_type": "markdown",
      "source": [
        "**Goals: Use Decision trees to create models;**"
      ],
      "metadata": {
        "id": "Gj85KXbiFium"
      }
    },
    {
      "cell_type": "code",
      "execution_count": null,
      "metadata": {
        "colab": {
          "base_uri": "https://localhost:8080/"
        },
        "id": "xpTtAP3LEPJg",
        "outputId": "07fe89ab-df17-4447-c3f0-ff41037fd46b"
      },
      "outputs": [
        {
          "output_type": "stream",
          "name": "stdout",
          "text": [
            "Classes to predict:  ['setosa' 'versicolor' 'virginica']\n"
          ]
        }
      ],
      "source": [
        "#Start with imports\n",
        "#To do: type your code here:\n",
        "\n",
        "#Loading the iris data\n",
        "#To do: type your code here:\n",
        "\n",
        "\n",
        "print('Classes to predict: ', data.target_names)\n",
        "#Result should be:\n",
        "#Classes to predict:  ['setosa' 'versicolor' 'virginica']\n"
      ]
    },
    {
      "cell_type": "markdown",
      "source": [
        "#Ex2: Extracting data attributes (X) and target/ class labels (y)"
      ],
      "metadata": {
        "id": "1123JYxdGmA5"
      }
    },
    {
      "cell_type": "code",
      "source": [
        "#To do: type your code here:\n",
        "\n",
        "#To do: type your code here:\n",
        "#Extracting data attributes\n",
        "#X =\n",
        "\n",
        "### Extracting target/ class labels\n",
        "#y =\n",
        "\n",
        "X[:4] #First 4 iris features\n",
        "#results should be:\n",
        "#array([[5.1, 3.5, 1.4, 0.2],\n",
        "#       [4.9, 3. , 1.4, 0.2],\n",
        "#       [4.7, 3.2, 1.3, 0.2],\n",
        "#       [4.6, 3.1, 1.5, 0.2]])\n",
        "\n",
        "print('Number of examples in the data:', y.shape[0]) ## result should be 150\n",
        "\n",
        "\n",
        "\n"
      ],
      "metadata": {
        "id": "lc7-Jo39Glut"
      },
      "execution_count": null,
      "outputs": []
    },
    {
      "cell_type": "markdown",
      "source": [
        "#Ex3: Create train and test sets (use train_test_split), 25% for testing"
      ],
      "metadata": {
        "id": "KtuYHqNlG2W5"
      }
    },
    {
      "cell_type": "code",
      "source": [
        "#To do: type your code here:"
      ],
      "metadata": {
        "id": "JEgqAYYVGXNx"
      },
      "execution_count": null,
      "outputs": []
    },
    {
      "cell_type": "markdown",
      "source": [
        "#Ex4: Create a Decision Tree (DT) classifier based on entropy (use DecisionTreeClassifier)"
      ],
      "metadata": {
        "id": "p5nB_lXHH-Cx"
      }
    },
    {
      "cell_type": "code",
      "source": [
        "#To do: type your code here:\n",
        "#clf ="
      ],
      "metadata": {
        "id": "CNzUaGN3H9OO"
      },
      "execution_count": null,
      "outputs": []
    },
    {
      "cell_type": "markdown",
      "source": [
        "#Ex5: Train the DT classifier"
      ],
      "metadata": {
        "id": "K0YEPCSFIQZY"
      }
    },
    {
      "cell_type": "code",
      "source": [
        "#To do: type your code here:\n",
        "#clf."
      ],
      "metadata": {
        "id": "d0qq1LBhINUe"
      },
      "execution_count": null,
      "outputs": []
    },
    {
      "cell_type": "markdown",
      "source": [
        "#Ex6: Predict labels on the test set."
      ],
      "metadata": {
        "id": "AmCiRQD1I9yL"
      }
    },
    {
      "cell_type": "code",
      "source": [
        "#To do: type your code here:\n",
        "\n",
        "#y_pred =\n",
        "\n",
        "print(y_pred.size) ## result should be 38"
      ],
      "metadata": {
        "id": "U0X4OPCHI3Vu"
      },
      "execution_count": null,
      "outputs": []
    },
    {
      "cell_type": "markdown",
      "source": [
        "#Ex7: Evaluate results (accuracy on train and test set with accuracy_score)"
      ],
      "metadata": {
        "id": "opvHmzzeJL65"
      }
    },
    {
      "cell_type": "code",
      "source": [
        "#To do: type your code here (fill the ...):\n",
        "\n",
        "#print('Train data accuracy: ', ...)\n",
        "#print('Test data accuracy: ', ...)\n",
        "\n",
        "#Typical Output:\n",
        "#Train data accuracy:  1.0\n",
        "#Test data accuracy:  0.9736842105263158"
      ],
      "metadata": {
        "id": "DcrzmXBhJcyE"
      },
      "execution_count": null,
      "outputs": []
    },
    {
      "cell_type": "markdown",
      "source": [
        "#Ex8: Evaluate results (confusion matrix)"
      ],
      "metadata": {
        "id": "U1c_KoxOKZy-"
      }
    },
    {
      "cell_type": "code",
      "source": [
        "#To do: type your code here (fill the ...):\n",
        "#cf_matrix = ...."
      ],
      "metadata": {
        "id": "6ih0aUM_KaEc"
      },
      "execution_count": null,
      "outputs": []
    },
    {
      "cell_type": "markdown",
      "source": [
        "#Ex9: Comment on results"
      ],
      "metadata": {
        "id": "QvpM-7gLJIeT"
      }
    },
    {
      "cell_type": "code",
      "source": [
        "#This code generates a graphical confusion matrix\n",
        "import seaborn as sns\n",
        "import matplotlib.pyplot as plt\n",
        "ax = sns.heatmap(cf_matrix, annot=True, cmap='Blues')\n",
        "ax.set_title('Seaborn Confusion Matrix with labels\\n\\n');\n",
        "ax.set_xlabel('\\nPredicted Iris Category')\n",
        "ax.set_ylabel('Actual Iris Category ');\n",
        "\n",
        "## Ticket labels - List must be in alphabetical order\n",
        "ax.xaxis.set_ticklabels(['Setosa','Versicolor', 'Virginia'])\n",
        "ax.yaxis.set_ticklabels(['Setosa','Versicolor', 'Virginia'])\n",
        "\n",
        "## Display the visualization of the Confusion Matrix.\n",
        "plt.show()"
      ],
      "metadata": {
        "id": "1rlwfKdYIH3h"
      },
      "execution_count": null,
      "outputs": []
    },
    {
      "cell_type": "markdown",
      "source": [
        "Generate the confusion matrix using the code above and comment on the results:"
      ],
      "metadata": {
        "id": "iKGT2MoUNnUp"
      }
    },
    {
      "cell_type": "markdown",
      "source": [
        "# Ex 10: Visualize the tree\n",
        "\n",
        "Use plot_tree(clf) importing tree from sklearn"
      ],
      "metadata": {
        "id": "2b3sN91Hga8o"
      }
    },
    {
      "cell_type": "code",
      "source": [
        "#To do: type your code here (fill the ...):\n",
        "\n",
        "#from ... import ...\n",
        "#tree...."
      ],
      "metadata": {
        "id": "-Qg5xsSzgiST"
      },
      "execution_count": null,
      "outputs": []
    },
    {
      "cell_type": "markdown",
      "source": [
        "#Ex11: Try different trees\n",
        "\n",
        "def __init__(*, criterion='gini', splitter='best', max_depth=None, min_samples_split=2, min_samples_leaf=1, min_weight_fraction_leaf=0.0, max_features=None, random_state=None, max_leaf_nodes=None, min_impurity_decrease=0.0, class_weight=None, ccp_alpha=0.0)"
      ],
      "metadata": {
        "id": "bic6pqUvOMuK"
      }
    },
    {
      "cell_type": "code",
      "source": [
        "#To do: type your code here"
      ],
      "metadata": {
        "id": "pFm3egUUOloF"
      },
      "execution_count": null,
      "outputs": []
    },
    {
      "cell_type": "markdown",
      "source": [
        "Comment on results with differeny trees."
      ],
      "metadata": {
        "id": "pmYA_E4_Ol9E"
      }
    },
    {
      "cell_type": "markdown",
      "source": [
        "# **Practice 2.2 - KNN**\n",
        "##Machine Learning – LECD, LEEC\n",
        "\n",
        "###Informatics Engineering Department"
      ],
      "metadata": {
        "id": "j1kPDcEgsKQt"
      }
    },
    {
      "cell_type": "markdown",
      "source": [
        "#Ex1: Generate a KNN Classifier and compare results."
      ],
      "metadata": {
        "id": "THf3T3-jN5p6"
      }
    },
    {
      "cell_type": "code",
      "source": [
        "#To do: type your code here (fill the ...):\n",
        "\n",
        "from sklearn.neighbors import KNeighborsClassifier as KNN\n",
        "\n",
        "#create classifier\n",
        "#knn = ...\n",
        "#train the model\n",
        "#knn.fit(...)\n",
        "#y_pred = knn.predict(...)\n",
        "\n",
        "#print('Train data accuracy: ', ...)\n",
        "#print('Test data accuracy: ', ...)\n"
      ],
      "metadata": {
        "id": "3duaW1qCOBF8"
      },
      "execution_count": null,
      "outputs": []
    },
    {
      "cell_type": "markdown",
      "source": [
        "#Ex2: Try different datasets (examples in Pratice 1)"
      ],
      "metadata": {
        "id": "HhVGCP2EQiPP"
      }
    },
    {
      "cell_type": "code",
      "source": [
        "#To do: type your code\n",
        "from sklearn.datasets import load_breast_cancer\n",
        "breastCancer = load_breast_cancer()\n",
        "\n",
        "X = breastCancer.data\n",
        "y = breastCancer.target"
      ],
      "metadata": {
        "id": "eJ8QLs7_QV7n"
      },
      "execution_count": null,
      "outputs": []
    }
  ]
}